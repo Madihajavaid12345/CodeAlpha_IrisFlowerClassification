{
  "nbformat": 4,
  "nbformat_minor": 0,
  "metadata": {
    "colab": {
      "provenance": []
    },
    "kernelspec": {
      "name": "python3",
      "display_name": "Python 3"
    },
    "language_info": {
      "name": "python"
    }
  },
  "cells": [
    {
      "cell_type": "markdown",
      "source": [
        "# CodeAlpha Task 1 - Iris Flower Classification Report\n",
        "\n",
        "###  Submitted by: Madiha Rehan  \n",
        "#### Task: Build a classification model to predict the species of Iris flowers.\n",
        "\n",
        "---\n",
        "\n",
        "## Tools Used:\n",
        "1. Python  \n",
        "2. pandas  \n",
        "3. scikit-learn  \n",
        "4. Google Colab  \n",
        "\n",
        "---\n",
        "\n",
        "## Steps Performed:\n",
        "- ✅ Loaded the Iris dataset using seaborn  \n",
        "- ✅ Verified that the dataset has no missing values  \n",
        "- ✅ Split the data into training and testing sets (80/20 ratio)  \n",
        "- ✅ Trained a **Logistic Regression** model using scikit-learn  \n",
        "- ✅ Made predictions and evaluated the model using accuracy and classification report  \n",
        "- ✅ Visualized results using a confusion matrix  \n",
        "\n",
        "---\n",
        "\n",
        "## Result:\n",
        "\n",
        "- **Model Used:** Logistic Regression  \n",
        "- **Accuracy Achieved:** 100% (1.0)  \n",
        "- **Precision, Recall, F1-Score:** All 1.00 for each species  \n",
        "- **Target Labels:** setosa, versicolor, virginica  \n",
        "- **Test Samples:** 30  \n",
        "- **Confusion Matrix:** Perfect (no misclassifications)  \n",
        "\n",
        "---\n",
        "\n",
        "## ✅ Conclusion:\n",
        "The model successfully predicted all test samples without any error, demonstrating excellent classification performance. This project confirms a strong understanding of classification in machine learning using Python and scikit-learn.\n",
        "\n",
        "---\n",
        "\n",
        "📁 **GitHub Repository Link:** https://github.com/Madihajavaid12345/CodeAlpha_IrisFlowerClassification/upload/main\n"
      ],
      "metadata": {
        "id": "_zpfg7uHcIn-"
      }
    },
    {
      "cell_type": "code",
      "source": [
        "# Import basic Python libraries used in data science\n",
        "import pandas as pd               # For data handling (rows and columns)\n",
        "import numpy as np                # For numerical operations\n",
        "import matplotlib.pyplot as plt   # For charts\n",
        "import seaborn as sns             # For better-looking charts\n",
        "\n",
        "# Import machine learning libraries\n",
        "from sklearn.model_selection import train_test_split  # To split data into training/testing\n",
        "from sklearn.linear_model import LogisticRegression    # ML model to classify iris flowers\n",
        "from sklearn.metrics import accuracy_score, classification_report, confusion_matrix  # To evaluate model\n"
      ],
      "metadata": {
        "id": "XskBD-U3cJa0"
      },
      "execution_count": 4,
      "outputs": []
    },
    {
      "cell_type": "code",
      "source": [],
      "metadata": {
        "id": "vDZQxkhrjWxg"
      },
      "execution_count": 4,
      "outputs": []
    },
    {
      "cell_type": "markdown",
      "source": [
        "Upload File to Colab\n"
      ],
      "metadata": {
        "id": "J_jEZOJWbdaO"
      }
    },
    {
      "cell_type": "code",
      "source": [
        "from google.colab import files\n",
        "uploaded = files.upload()\n"
      ],
      "metadata": {
        "colab": {
          "base_uri": "https://localhost:8080/",
          "height": 38
        },
        "id": "bkIizuzWbW9e",
        "outputId": "6f167e55-0f8e-47ef-b297-9fd1960dd438"
      },
      "execution_count": null,
      "outputs": [
        {
          "output_type": "display_data",
          "data": {
            "text/plain": [
              "<IPython.core.display.HTML object>"
            ],
            "text/html": [
              "\n",
              "     <input type=\"file\" id=\"files-075ea934-a9b3-403f-afeb-5c465f72cb10\" name=\"files[]\" multiple disabled\n",
              "        style=\"border:none\" />\n",
              "     <output id=\"result-075ea934-a9b3-403f-afeb-5c465f72cb10\">\n",
              "      Upload widget is only available when the cell has been executed in the\n",
              "      current browser session. Please rerun this cell to enable.\n",
              "      </output>\n",
              "      <script>// Copyright 2017 Google LLC\n",
              "//\n",
              "// Licensed under the Apache License, Version 2.0 (the \"License\");\n",
              "// you may not use this file except in compliance with the License.\n",
              "// You may obtain a copy of the License at\n",
              "//\n",
              "//      http://www.apache.org/licenses/LICENSE-2.0\n",
              "//\n",
              "// Unless required by applicable law or agreed to in writing, software\n",
              "// distributed under the License is distributed on an \"AS IS\" BASIS,\n",
              "// WITHOUT WARRANTIES OR CONDITIONS OF ANY KIND, either express or implied.\n",
              "// See the License for the specific language governing permissions and\n",
              "// limitations under the License.\n",
              "\n",
              "/**\n",
              " * @fileoverview Helpers for google.colab Python module.\n",
              " */\n",
              "(function(scope) {\n",
              "function span(text, styleAttributes = {}) {\n",
              "  const element = document.createElement('span');\n",
              "  element.textContent = text;\n",
              "  for (const key of Object.keys(styleAttributes)) {\n",
              "    element.style[key] = styleAttributes[key];\n",
              "  }\n",
              "  return element;\n",
              "}\n",
              "\n",
              "// Max number of bytes which will be uploaded at a time.\n",
              "const MAX_PAYLOAD_SIZE = 100 * 1024;\n",
              "\n",
              "function _uploadFiles(inputId, outputId) {\n",
              "  const steps = uploadFilesStep(inputId, outputId);\n",
              "  const outputElement = document.getElementById(outputId);\n",
              "  // Cache steps on the outputElement to make it available for the next call\n",
              "  // to uploadFilesContinue from Python.\n",
              "  outputElement.steps = steps;\n",
              "\n",
              "  return _uploadFilesContinue(outputId);\n",
              "}\n",
              "\n",
              "// This is roughly an async generator (not supported in the browser yet),\n",
              "// where there are multiple asynchronous steps and the Python side is going\n",
              "// to poll for completion of each step.\n",
              "// This uses a Promise to block the python side on completion of each step,\n",
              "// then passes the result of the previous step as the input to the next step.\n",
              "function _uploadFilesContinue(outputId) {\n",
              "  const outputElement = document.getElementById(outputId);\n",
              "  const steps = outputElement.steps;\n",
              "\n",
              "  const next = steps.next(outputElement.lastPromiseValue);\n",
              "  return Promise.resolve(next.value.promise).then((value) => {\n",
              "    // Cache the last promise value to make it available to the next\n",
              "    // step of the generator.\n",
              "    outputElement.lastPromiseValue = value;\n",
              "    return next.value.response;\n",
              "  });\n",
              "}\n",
              "\n",
              "/**\n",
              " * Generator function which is called between each async step of the upload\n",
              " * process.\n",
              " * @param {string} inputId Element ID of the input file picker element.\n",
              " * @param {string} outputId Element ID of the output display.\n",
              " * @return {!Iterable<!Object>} Iterable of next steps.\n",
              " */\n",
              "function* uploadFilesStep(inputId, outputId) {\n",
              "  const inputElement = document.getElementById(inputId);\n",
              "  inputElement.disabled = false;\n",
              "\n",
              "  const outputElement = document.getElementById(outputId);\n",
              "  outputElement.innerHTML = '';\n",
              "\n",
              "  const pickedPromise = new Promise((resolve) => {\n",
              "    inputElement.addEventListener('change', (e) => {\n",
              "      resolve(e.target.files);\n",
              "    });\n",
              "  });\n",
              "\n",
              "  const cancel = document.createElement('button');\n",
              "  inputElement.parentElement.appendChild(cancel);\n",
              "  cancel.textContent = 'Cancel upload';\n",
              "  const cancelPromise = new Promise((resolve) => {\n",
              "    cancel.onclick = () => {\n",
              "      resolve(null);\n",
              "    };\n",
              "  });\n",
              "\n",
              "  // Wait for the user to pick the files.\n",
              "  const files = yield {\n",
              "    promise: Promise.race([pickedPromise, cancelPromise]),\n",
              "    response: {\n",
              "      action: 'starting',\n",
              "    }\n",
              "  };\n",
              "\n",
              "  cancel.remove();\n",
              "\n",
              "  // Disable the input element since further picks are not allowed.\n",
              "  inputElement.disabled = true;\n",
              "\n",
              "  if (!files) {\n",
              "    return {\n",
              "      response: {\n",
              "        action: 'complete',\n",
              "      }\n",
              "    };\n",
              "  }\n",
              "\n",
              "  for (const file of files) {\n",
              "    const li = document.createElement('li');\n",
              "    li.append(span(file.name, {fontWeight: 'bold'}));\n",
              "    li.append(span(\n",
              "        `(${file.type || 'n/a'}) - ${file.size} bytes, ` +\n",
              "        `last modified: ${\n",
              "            file.lastModifiedDate ? file.lastModifiedDate.toLocaleDateString() :\n",
              "                                    'n/a'} - `));\n",
              "    const percent = span('0% done');\n",
              "    li.appendChild(percent);\n",
              "\n",
              "    outputElement.appendChild(li);\n",
              "\n",
              "    const fileDataPromise = new Promise((resolve) => {\n",
              "      const reader = new FileReader();\n",
              "      reader.onload = (e) => {\n",
              "        resolve(e.target.result);\n",
              "      };\n",
              "      reader.readAsArrayBuffer(file);\n",
              "    });\n",
              "    // Wait for the data to be ready.\n",
              "    let fileData = yield {\n",
              "      promise: fileDataPromise,\n",
              "      response: {\n",
              "        action: 'continue',\n",
              "      }\n",
              "    };\n",
              "\n",
              "    // Use a chunked sending to avoid message size limits. See b/62115660.\n",
              "    let position = 0;\n",
              "    do {\n",
              "      const length = Math.min(fileData.byteLength - position, MAX_PAYLOAD_SIZE);\n",
              "      const chunk = new Uint8Array(fileData, position, length);\n",
              "      position += length;\n",
              "\n",
              "      const base64 = btoa(String.fromCharCode.apply(null, chunk));\n",
              "      yield {\n",
              "        response: {\n",
              "          action: 'append',\n",
              "          file: file.name,\n",
              "          data: base64,\n",
              "        },\n",
              "      };\n",
              "\n",
              "      let percentDone = fileData.byteLength === 0 ?\n",
              "          100 :\n",
              "          Math.round((position / fileData.byteLength) * 100);\n",
              "      percent.textContent = `${percentDone}% done`;\n",
              "\n",
              "    } while (position < fileData.byteLength);\n",
              "  }\n",
              "\n",
              "  // All done.\n",
              "  yield {\n",
              "    response: {\n",
              "      action: 'complete',\n",
              "    }\n",
              "  };\n",
              "}\n",
              "\n",
              "scope.google = scope.google || {};\n",
              "scope.google.colab = scope.google.colab || {};\n",
              "scope.google.colab._files = {\n",
              "  _uploadFiles,\n",
              "  _uploadFilesContinue,\n",
              "};\n",
              "})(self);\n",
              "</script> "
            ]
          },
          "metadata": {}
        }
      ]
    },
    {
      "cell_type": "markdown",
      "source": [
        "Load Dataset in Python"
      ],
      "metadata": {
        "id": "QMZzd2RbbqZd"
      }
    },
    {
      "cell_type": "code",
      "source": [
        "# Load the CSV file into a pandas DataFrame\n",
        "df = pd.read_csv(\"Iris.csv\")  # Make sure the filename matches your file\n",
        "\n",
        "# Show the first 5 rows of the dataset to understand its structure\n",
        "df.head()\n",
        "\n"
      ],
      "metadata": {
        "id": "XG0EiPpbbrel"
      },
      "execution_count": null,
      "outputs": []
    },
    {
      "cell_type": "code",
      "source": [
        "# Check if any data is missing\n",
        "df.isnull().sum()\n",
        "\n"
      ],
      "metadata": {
        "id": "AM9mv9B0cjMM"
      },
      "execution_count": null,
      "outputs": []
    },
    {
      "cell_type": "code",
      "source": [
        "# Show basic information about the dataset\n",
        "df.info()\n",
        "\n",
        "# Show statistical summary (mean, min, max, etc.)\n",
        "df.describe()\n"
      ],
      "metadata": {
        "id": "2vSPVX2ic2w8"
      },
      "execution_count": null,
      "outputs": []
    },
    {
      "cell_type": "code",
      "source": [
        "# Let's see the number of samples for each species\n",
        "sns.countplot(x='Species', data=df)\n",
        "plt.title(\"Count of Each Iris Flower Species\")\n",
        "plt.show()\n"
      ],
      "metadata": {
        "id": "37aTxoQRc-a0"
      },
      "execution_count": null,
      "outputs": []
    },
    {
      "cell_type": "markdown",
      "source": [
        " Prepare the Data for Machine Learning"
      ],
      "metadata": {
        "id": "KaebFk7kdfFq"
      }
    },
    {
      "cell_type": "code",
      "source": [
        "# Step 1: Separate the features (X) and the target/label (y)\n",
        "X = df.drop(\"Species\", axis=1)  # Features: sepal and petal measurements\n",
        "y = df[\"Species\"]               # Target: flower species\n",
        "\n",
        "# Step 2: Split data into training and testing parts\n",
        "X_train, X_test, y_train, y_test = train_test_split(X, y, test_size=0.3, random_state=42)\n"
      ],
      "metadata": {
        "id": "248iDmgNdezb"
      },
      "execution_count": null,
      "outputs": []
    },
    {
      "cell_type": "markdown",
      "source": [
        "Train the Model"
      ],
      "metadata": {
        "id": "ZsJFOLyNdrEC"
      }
    },
    {
      "cell_type": "code",
      "source": [
        "# 📌 Create and train the Logistic Regression model\n",
        "model = LogisticRegression(max_iter=200)  # Increase max_iter to avoid warnings\n",
        "model.fit(X_train, y_train)               # Train the model on the training data\n",
        "\n"
      ],
      "metadata": {
        "id": "2CzQc5TSdryr"
      },
      "execution_count": null,
      "outputs": []
    },
    {
      "cell_type": "markdown",
      "source": [
        " Predict Using the Test Data"
      ],
      "metadata": {
        "id": "kb6VjaIMdwtr"
      }
    },
    {
      "cell_type": "code",
      "source": [
        "# Predict the species using the test data\n",
        "y_pred = model.predict(X_test)\n"
      ],
      "metadata": {
        "id": "clo91x3rdxo6"
      },
      "execution_count": null,
      "outputs": []
    },
    {
      "cell_type": "code",
      "source": [
        "# Print the accuracy of the model\n",
        "accuracy = accuracy_score(y_test, y_pred)\n",
        "print(\"Accuracy of the model:\", accuracy)\n",
        "\n",
        "# Print detailed classification report\n",
        "print(\"\\nClassification Report:\")\n",
        "print(classification_report(y_test, y_pred))\n"
      ],
      "metadata": {
        "id": "i9Po6ujYd1db"
      },
      "execution_count": null,
      "outputs": []
    },
    {
      "cell_type": "code",
      "source": [
        "# Show confusion matrix using heatmap\n",
        "cm = confusion_matrix(y_test, y_pred)\n",
        "\n",
        "sns.heatmap(cm, annot=True, cmap=\"Blues\", xticklabels=df['Species'].unique(), yticklabels=df['Species'].unique())\n",
        "plt.xlabel(\"Predicted\")\n",
        "plt.ylabel(\"Actual\")\n",
        "plt.title(\"Confusion Matrix\")\n",
        "plt.show()\n"
      ],
      "metadata": {
        "id": "f76auue5d6ca"
      },
      "execution_count": null,
      "outputs": []
    }
  ]
}